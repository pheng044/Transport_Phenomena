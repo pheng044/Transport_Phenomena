{
 "cells": [
  {
   "cell_type": "markdown",
   "id": "cbdcf87b",
   "metadata": {},
   "source": [
    "## Appendix 5: An Example of the Transient Energy Equation\n",
    "\n",
    "The following is an example of just how complicated solutions become\n",
    "when transient transport is considered. For the sake of the example,\n",
    "consider a 1D metal rod that is insulated at both ends (no flux), and is\n",
    "heated to an initial temperature profile, $f(x)$. We also allow a heat\n",
    "source, $Q(x,t)$, to input energy into the rod. Mathematically, these\n",
    "conditions give, \n",
    "\n",
    "$$ \\displaystyle \\frac{\\displaystyle \\partial^{}T}{\\displaystyle \\partial t ^{}}=\\alpha\\displaystyle \\frac{\\displaystyle \\partial^{2}T}{\\displaystyle \\partial x ^{2}}+Q(x,t), $$\n",
    "\n",
    "$$ \\displaystyle \\frac{\\displaystyle \\partial^{}T}{\\displaystyle \\partial x ^{}}(0,t)=0=\\displaystyle \\frac{\\displaystyle \\partial^{}T}{\\displaystyle \\partial x ^{}}(L,t), $$\n",
    "\n",
    "$$T(x,0)=f(x),$$ \n",
    "\n",
    "\\... a relatively tame transport equation. The solution\n",
    "is given by,\n",
    "\n",
    "$$\\ T(x,t)=\\frac{1}{L}\\int_0^L\\left[f(y)+\\int_0^t{Q(y,\\tau)\\,d\\tau}\\right]\\,dy$$\n",
    "\n",
    "$$\\ +\\frac{2}{L}\\int_0^L\\sum_{n=1}^{\\infty}\\left[\\left(f(y)e^{-\\alpha\\left(\\frac{n\\pi}{L}\\right)^2 t}+\\int_0^t{Q(y,\\tau)e^{-\\alpha\\left(\\frac{n\\pi}{L}\\right)^2 \\left(t-\\tau\\right)}\\,d\\tau}\\right)\\cos{\\left(\\frac{n\\pi x}{L}\\right)}\\cos{\\left(\\frac{n\\pi y}{L}\\right)}\\right]dy.$$\n",
    "\n",
    "It becomes easy to see why numerical methods are needed for even\n",
    "slightly more complex problems since the analytical solutions become so\n",
    "unwieldy.\n"
   ]
  }
 ],
 "metadata": {
  "kernelspec": {
   "display_name": "Python 3 (ipykernel)",
   "language": "python",
   "name": "python3"
  },
  "language_info": {
   "codemirror_mode": {
    "name": "ipython",
    "version": 3
   },
   "file_extension": ".py",
   "mimetype": "text/x-python",
   "name": "python",
   "nbconvert_exporter": "python",
   "pygments_lexer": "ipython3",
   "version": "3.11.5"
  }
 },
 "nbformat": 4,
 "nbformat_minor": 5
}
