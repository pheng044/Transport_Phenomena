{
 "cells": [
  {
   "cell_type": "markdown",
   "id": "eacff364",
   "metadata": {},
   "source": [
    "## Appendix 2: Mathematical Operations in the Navier-Stokes Equations\n",
    "\n",
    "In the following development, we let $i$ and $j$ indices represent $x$,\n",
    "$y$, or $z$. We claim,\n",
    "\n",
    "$$\\ \\nabla\\cdot \\left(\\rho\\mathbf{u}\\mathbf{u}\\right)=\\nabla\\cdot \\left(\\rho\\mathbf{u}\\right)\\mathbf{u}+\\left(\\rho\\mathbf{u}\\right)\\cdot\\nabla \\mathbf{u}.$$\n",
    "\n",
    "To see this, consider and verify the Cartesian definition of the\n",
    "divergence and the gradient,\n",
    "\n",
    "$$\\ \\nabla\\cdot \\mathbf{u}=\\sum_i \\displaystyle \\frac{\\displaystyle \\partial^{}u_i}{\\displaystyle \\partial x_i ^{}}\\ \\ \\mathrm{(Scalar)}, \\quad \\nabla \\mathbf{u}=\\displaystyle \\frac{\\displaystyle \\partial^{}u_j}{\\displaystyle \\partial x_i ^{}}\\ \\mathbf{e}_i\\mathbf{e}_j\\ \\ \\mathrm{(Matrix)},$$\n",
    "\n",
    "where the $\\mathbf{e}$'s represent the Cartesian basis vectors. The\n",
    "$\\rho\\mathbf{u}\\mathbf{u}$ term is also a matrix (tensor) which can be\n",
    "written as,\n",
    "\n",
    "$$\\ \\rho\\mathbf{u}\\mathbf{u}=\\rho u_i u_j\\ \\mathbf{e}_i\\mathbf{e}_j.$$\n",
    "\n",
    "Remember that matrices are represented by two *different* indices, the\n",
    "above expression runs through all $(i,j)$ pairs. If we take the\n",
    "divergence of the above and apply the standard product rule,\n",
    "\n",
    "$$\\ \\displaystyle \\frac{\\displaystyle \\partial^{}(\\rho u_i u_j\\ \\mathbf{e}_i\\mathbf{e}_j)}{\\displaystyle \\partial x_i ^{}}=\\left(\\displaystyle \\frac{\\displaystyle \\partial^{}(\\rho u_i)}{\\displaystyle \\partial x_i ^{}}u_j+\\rho u_i\\displaystyle \\frac{\\displaystyle \\partial^{}u_j}{\\displaystyle \\partial x_i ^{}}\\right)\\mathbf{e}_i\\mathbf{e}_j,$$\n",
    "\n",
    "or in vector calculus notation,\n",
    "\n",
    "$$\\ \\nabla\\cdot \\left(\\rho\\mathbf{u}\\mathbf{u}\\right)=\\nabla\\cdot \\left(\\rho\\mathbf{u}\\right)\\mathbf{u}+\\left(\\rho\\mathbf{u}\\right)\\cdot\\nabla \\mathbf{u}.$$\n",
    "\n",
    "The vector calculus expression actually holds in all coordinate systems,\n",
    "but this is requires more advanced tensor calculus to prove.\n",
    "\n",
    "We also claimed,\n",
    "\n",
    "$$\\ \\mu\\nabla\\cdot \\left(\\nabla \\mathbf{u}\\right)^{\\mathrm{T}}=\\mathbf{0}.$$\n",
    "\n",
    "We again only consider Cartesian coordinates, giving, \n",
    "\n",
    "$$\\begin{aligned}\n",
    "\\mu\\nabla\\cdot \\left(\\nabla \\mathbf{u}\\right)^{\\mathrm{T}}&=\\mu \\displaystyle \\frac{\\displaystyle \\partial^{}}{\\displaystyle \\partial x_i ^{}}\\left(\\displaystyle \\frac{\\displaystyle \\partial^{}u_i}{\\displaystyle \\partial x_j ^{}}\\ \\mathbf{e}_i\\mathbf{e}_j\\right)\\\\\n",
    "\\ &=\\mu \\displaystyle \\frac{\\displaystyle \\partial^{}}{\\displaystyle \\partial x_j ^{}}\\left(\\displaystyle \\frac{\\displaystyle \\partial^{}u_i}{\\displaystyle \\partial x_i ^{}}\\right)\\mathbf{e}_i\\mathbf{e}_j\\\\\n",
    "\\ &=\\mu\\nabla\\left(\\nabla\\cdot \\mathbf{u}\\right)\\\\\n",
    "\\ &=\\mathbf{0}.\n",
    "\\end{aligned}$$ \n",
    "\n",
    "Where the last equality is because the fluid is\n",
    "incompressible."
   ]
  }
 ],
 "metadata": {
  "kernelspec": {
   "display_name": "Python 3 (ipykernel)",
   "language": "python",
   "name": "python3"
  },
  "language_info": {
   "codemirror_mode": {
    "name": "ipython",
    "version": 3
   },
   "file_extension": ".py",
   "mimetype": "text/x-python",
   "name": "python",
   "nbconvert_exporter": "python",
   "pygments_lexer": "ipython3",
   "version": "3.11.5"
  }
 },
 "nbformat": 4,
 "nbformat_minor": 5
}
